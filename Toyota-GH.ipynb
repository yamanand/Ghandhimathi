{
 "cells": [
  {
   "cell_type": "code",
   "execution_count": 143,
   "id": "b617308d",
   "metadata": {},
   "outputs": [],
   "source": [
    "import pandas as pd\n",
    "import numpy as np\n",
    "import matplotlib.pyplot as plt\n",
    "import seaborn as sns\n",
    "import statsmodels.formula.api as smf\n",
    "import statsmodels.api as sm\n",
    "from statsmodels.graphics.regressionplots import influence_plot\n"
   ]
  },
  {
   "cell_type": "code",
   "execution_count": 39,
   "id": "79549c49",
   "metadata": {},
   "outputs": [
    {
     "data": {
      "text/plain": [
       "Index(['Id', 'Model', 'Price', 'Age_08_04', 'Del E', 'Mfg_Year', 'KM',\n",
       "       'Fuel_Type', 'HP', 'Met_Color', 'Color', 'Automatic', 'cc', 'Doors',\n",
       "       'Cylinders', 'Gears', 'Quarterly_Tax', 'Weight', 'Mfr_Guarantee',\n",
       "       'BOVAG_Guarantee', 'Guarantee_Period', 'ABS', 'Airbag_1', 'Airbag_2',\n",
       "       'Airco', 'Automatic_airco', 'Boardcomputer', 'CD_Player',\n",
       "       'Central_Lock', 'Powered_Windows', 'Power_Steering', 'Radio',\n",
       "       'Mistlamps', 'Sport_Model', 'Backseat_Divider', 'Metallic_Rim',\n",
       "       'Radio_cassette', 'Tow_Bar'],\n",
       "      dtype='object')"
      ]
     },
     "execution_count": 39,
     "metadata": {},
     "output_type": "execute_result"
    }
   ],
   "source": [
    "toyota=pd.read_csv('C:/Users/User/Desktop/Data Science/predict_new.csv/Toyota.csv')\n",
    "toyota.columns"
   ]
  },
  {
   "cell_type": "code",
   "execution_count": 47,
   "id": "ff7fbf2c",
   "metadata": {},
   "outputs": [
    {
     "data": {
      "text/plain": [
       "Index(['Price', 'Age_08_04', 'KM', 'HP', 'cc', 'Doors', 'Gears',\n",
       "       'Quarterly_Tax', 'Weight'],\n",
       "      dtype='object')"
      ]
     },
     "execution_count": 47,
     "metadata": {},
     "output_type": "execute_result"
    }
   ],
   "source": [
    "\n",
    "toyota1=toyota.drop(['Id', 'Model',  'Del E', 'Mfg_Year', \n",
    "       'Fuel_Type',  'Met_Color', 'Color', 'Automatic', \n",
    "       'Cylinders',  'Mfr_Guarantee',\n",
    "       'BOVAG_Guarantee', 'Guarantee_Period', 'ABS', 'Airbag_1', 'Airbag_2',\n",
    "       'Airco', 'Automatic_airco', 'Boardcomputer', 'CD_Player',\n",
    "       'Central_Lock', 'Powered_Windows', 'Power_Steering', 'Radio',\n",
    "       'Mistlamps', 'Sport_Model', 'Backseat_Divider', 'Metallic_Rim',\n",
    "       'Radio_cassette', 'Tow_Bar'\n",
    "       ],\n",
    "      axis=1)\n",
    "toyota1.columns\n",
    "\n"
   ]
  },
  {
   "cell_type": "code",
   "execution_count": 53,
   "id": "7c90723e",
   "metadata": {},
   "outputs": [
    {
     "data": {
      "text/plain": [
       "Index(['Price', 'Age', 'KM', 'HP', 'cc', 'Doors', 'Gears', 'Tax', 'Weight'], dtype='object')"
      ]
     },
     "execution_count": 53,
     "metadata": {},
     "output_type": "execute_result"
    }
   ],
   "source": [
    "toyota1=toyota1.rename({'Age_08_04':'Age'},axis=1)\n",
    "toyota1=toyota1.rename({'Quarterly_Tax':'Tax'},axis=1)\n",
    "toyota1.columns"
   ]
  },
  {
   "cell_type": "code",
   "execution_count": 58,
   "id": "d3eb576f",
   "metadata": {},
   "outputs": [
    {
     "data": {
      "text/plain": [
       "{'whiskers': [<matplotlib.lines.Line2D at 0x1efd7c012b0>,\n",
       "  <matplotlib.lines.Line2D at 0x1efd7c01e20>],\n",
       " 'caps': [<matplotlib.lines.Line2D at 0x1efd7c081c0>,\n",
       "  <matplotlib.lines.Line2D at 0x1efd7c08640>],\n",
       " 'boxes': [<matplotlib.lines.Line2D at 0x1efd7bfbbe0>],\n",
       " 'medians': [<matplotlib.lines.Line2D at 0x1efd7258d90>],\n",
       " 'fliers': [<matplotlib.lines.Line2D at 0x1efd7b850a0>],\n",
       " 'means': []}"
      ]
     },
     "execution_count": 58,
     "metadata": {},
     "output_type": "execute_result"
    },
    {
     "data": {
      "image/png": "[encoded data removed]",
      "text/plain": [
       "<Figure size 432x288 with 1 Axes>"
      ]
     },
     "metadata": {
      "needs_background": "light"
     },
     "output_type": "display_data"
    }
   ],
   "source": [
    "plt.boxplot(toyota1[\"Price\"])"
   ]
  },
  {
   "cell_type": "code",
   "execution_count": 57,
   "id": "780465c6",
   "metadata": {},
   "outputs": [
    {
     "data": {
      "text/plain": [
       "{'whiskers': [<matplotlib.lines.Line2D at 0x1efd7bc16a0>,\n",
       "  <matplotlib.lines.Line2D at 0x1efd7bc1a00>],\n",
       " 'caps': [<matplotlib.lines.Line2D at 0x1efd7bc1d00>,\n",
       "  <matplotlib.lines.Line2D at 0x1efd7bd10a0>],\n",
       " 'boxes': [<matplotlib.lines.Line2D at 0x1efd7bc1340>],\n",
       " 'medians': [<matplotlib.lines.Line2D at 0x1efd7bd1400>],\n",
       " 'fliers': [<matplotlib.lines.Line2D at 0x1efd7bd1760>],\n",
       " 'means': []}"
      ]
     },
     "execution_count": 57,
     "metadata": {},
     "output_type": "execute_result"
    },
    {
     "data": {
      "image/png": "[encoded data removed]",
      "text/plain": [
       "<Figure size 432x288 with 1 Axes>"
      ]
     },
     "metadata": {
      "needs_background": "light"
     },
     "output_type": "display_data"
    }
   ],
   "source": [
    "plt.boxplot(toyota1[\"Age\"])"
   ]
  },
  {
   "cell_type": "code",
   "execution_count": 66,
   "id": "c108b3cd",
   "metadata": {},
   "outputs": [
    {
     "data": {
      "text/plain": [
       "{'whiskers': [<matplotlib.lines.Line2D at 0x1efd8eef8e0>,\n",
       "  <matplotlib.lines.Line2D at 0x1efd8eefc40>],\n",
       " 'caps': [<matplotlib.lines.Line2D at 0x1efd8eeffa0>,\n",
       "  <matplotlib.lines.Line2D at 0x1efd8ef9340>],\n",
       " 'boxes': [<matplotlib.lines.Line2D at 0x1efd8eef580>],\n",
       " 'medians': [<matplotlib.lines.Line2D at 0x1efd8ef96a0>],\n",
       " 'fliers': [<matplotlib.lines.Line2D at 0x1efd8ef9a00>],\n",
       " 'means': []}"
      ]
     },
     "execution_count": 66,
     "metadata": {},
     "output_type": "execute_result"
    },
    {
     "data": {
      "image/png": "[encoded data removed]",
      "text/plain": [
       "<Figure size 432x288 with 1 Axes>"
      ]
     },
     "metadata": {
      "needs_background": "light"
     },
     "output_type": "display_data"
    }
   ],
   "source": [
    "plt.boxplot(toyota1[\"KM\"])"
   ]
  },
  {
   "cell_type": "code",
   "execution_count": 59,
   "id": "7b56a527",
   "metadata": {},
   "outputs": [
    {
     "data": {
      "text/plain": [
       "{'whiskers': [<matplotlib.lines.Line2D at 0x1efd7c81ac0>,\n",
       "  <matplotlib.lines.Line2D at 0x1efd7c81e20>],\n",
       " 'caps': [<matplotlib.lines.Line2D at 0x1efd7c8e1c0>,\n",
       "  <matplotlib.lines.Line2D at 0x1efd7c8e520>],\n",
       " 'boxes': [<matplotlib.lines.Line2D at 0x1efd7c817c0>],\n",
       " 'medians': [<matplotlib.lines.Line2D at 0x1efd7c8e880>],\n",
       " 'fliers': [<matplotlib.lines.Line2D at 0x1efd7c8ebe0>],\n",
       " 'means': []}"
      ]
     },
     "execution_count": 59,
     "metadata": {},
     "output_type": "execute_result"
    },
    {
     "data": {
      "image/png": "[encoded data removed]",
      "text/plain": [
       "<Figure size 432x288 with 1 Axes>"
      ]
     },
     "metadata": {
      "needs_background": "light"
     },
     "output_type": "display_data"
    }
   ],
   "source": [
    "plt.boxplot(toyota1[\"HP\"])"
   ]
  },
  {
   "cell_type": "code",
   "execution_count": 60,
   "id": "c1c5c084",
   "metadata": {},
   "outputs": [
    {
     "data": {
      "text/plain": [
       "{'whiskers': [<matplotlib.lines.Line2D at 0x1efd7ce8040>,\n",
       "  <matplotlib.lines.Line2D at 0x1efd7ce83a0>],\n",
       " 'caps': [<matplotlib.lines.Line2D at 0x1efd7ce8700>,\n",
       "  <matplotlib.lines.Line2D at 0x1efd7ce8a60>],\n",
       " 'boxes': [<matplotlib.lines.Line2D at 0x1efd7cd9ca0>],\n",
       " 'medians': [<matplotlib.lines.Line2D at 0x1efd7ce8dc0>],\n",
       " 'fliers': [<matplotlib.lines.Line2D at 0x1efd7cf5160>],\n",
       " 'means': []}"
      ]
     },
     "execution_count": 60,
     "metadata": {},
     "output_type": "execute_result"
    },
    {
     "data": {
      "image/png": "[encoded data removed]",
      "text/plain": [
       "<Figure size 432x288 with 1 Axes>"
      ]
     },
     "metadata": {
      "needs_background": "light"
     },
     "output_type": "display_data"
    }
   ],
   "source": [
    "plt.boxplot(toyota1[\"cc\"])"
   ]
  },
  {
   "cell_type": "code",
   "execution_count": 62,
   "id": "25f5ddb6",
   "metadata": {},
   "outputs": [
    {
     "data": {
      "text/plain": [
       "{'whiskers': [<matplotlib.lines.Line2D at 0x1efd7da0a00>,\n",
       "  <matplotlib.lines.Line2D at 0x1efd7da0d60>],\n",
       " 'caps': [<matplotlib.lines.Line2D at 0x1efd7daf100>,\n",
       "  <matplotlib.lines.Line2D at 0x1efd7daf460>],\n",
       " 'boxes': [<matplotlib.lines.Line2D at 0x1efd7da06a0>],\n",
       " 'medians': [<matplotlib.lines.Line2D at 0x1efd7daf7c0>],\n",
       " 'fliers': [<matplotlib.lines.Line2D at 0x1efd7dafb20>],\n",
       " 'means': []}"
      ]
     },
     "execution_count": 62,
     "metadata": {},
     "output_type": "execute_result"
    },
    {
     "data": {
      "image/png": "[encoded data removed]",
      "text/plain": [
       "<Figure size 432x288 with 1 Axes>"
      ]
     },
     "metadata": {
      "needs_background": "light"
     },
     "output_type": "display_data"
    }
   ],
   "source": [
    "plt.boxplot(toyota1[\"Doors\"])"
   ]
  },
  {
   "cell_type": "code",
   "execution_count": 63,
   "id": "7a97818c",
   "metadata": {},
   "outputs": [
    {
     "data": {
      "text/plain": [
       "{'whiskers': [<matplotlib.lines.Line2D at 0x1efd7e09490>,\n",
       "  <matplotlib.lines.Line2D at 0x1efd7e097f0>],\n",
       " 'caps': [<matplotlib.lines.Line2D at 0x1efd7e09b50>,\n",
       "  <matplotlib.lines.Line2D at 0x1efd7e09eb0>],\n",
       " 'boxes': [<matplotlib.lines.Line2D at 0x1efd7e09130>],\n",
       " 'medians': [<matplotlib.lines.Line2D at 0x1efd7e13250>],\n",
       " 'fliers': [<matplotlib.lines.Line2D at 0x1efd7e135b0>],\n",
       " 'means': []}"
      ]
     },
     "execution_count": 63,
     "metadata": {},
     "output_type": "execute_result"
    },
    {
     "data": {
      "image/png": "[encoded data removed]",
      "text/plain": [
       "<Figure size 432x288 with 1 Axes>"
      ]
     },
     "metadata": {
      "needs_background": "light"
     },
     "output_type": "display_data"
    }
   ],
   "source": [
    "plt.boxplot(toyota1[\"Gears\"])"
   ]
  },
  {
   "cell_type": "code",
   "execution_count": 64,
   "id": "497cc7fb",
   "metadata": {},
   "outputs": [
    {
     "data": {
      "text/plain": [
       "{'whiskers': [<matplotlib.lines.Line2D at 0x1efd7e5de80>,\n",
       "  <matplotlib.lines.Line2D at 0x1efd7e6a220>],\n",
       " 'caps': [<matplotlib.lines.Line2D at 0x1efd7e6a580>,\n",
       "  <matplotlib.lines.Line2D at 0x1efd7e6a8e0>],\n",
       " 'boxes': [<matplotlib.lines.Line2D at 0x1efd7e5db20>],\n",
       " 'medians': [<matplotlib.lines.Line2D at 0x1efd7e6ac40>],\n",
       " 'fliers': [<matplotlib.lines.Line2D at 0x1efd7e6afa0>],\n",
       " 'means': []}"
      ]
     },
     "execution_count": 64,
     "metadata": {},
     "output_type": "execute_result"
    },
    {
     "data": {
      "image/png": "[encoded data removed]",
      "text/plain": [
       "<Figure size 432x288 with 1 Axes>"
      ]
     },
     "metadata": {
      "needs_background": "light"
     },
     "output_type": "display_data"
    }
   ],
   "source": [
    "plt.boxplot(toyota1[\"Tax\"])"
   ]
  },
  {
   "cell_type": "code",
   "execution_count": 65,
   "id": "5e9115fa",
   "metadata": {},
   "outputs": [
    {
     "data": {
      "text/plain": [
       "{'whiskers': [<matplotlib.lines.Line2D at 0x1efd8e89e50>,\n",
       "  <matplotlib.lines.Line2D at 0x1efd8e951f0>],\n",
       " 'caps': [<matplotlib.lines.Line2D at 0x1efd8e95550>,\n",
       "  <matplotlib.lines.Line2D at 0x1efd8e958b0>],\n",
       " 'boxes': [<matplotlib.lines.Line2D at 0x1efd8e89af0>],\n",
       " 'medians': [<matplotlib.lines.Line2D at 0x1efd8e95c10>],\n",
       " 'fliers': [<matplotlib.lines.Line2D at 0x1efd8e95f70>],\n",
       " 'means': []}"
      ]
     },
     "execution_count": 65,
     "metadata": {},
     "output_type": "execute_result"
    },
    {
     "data": {
      "image/png": "[encoded data removed]",
      "text/plain": [
       "<Figure size 432x288 with 1 Axes>"
      ]
     },
     "metadata": {
      "needs_background": "light"
     },
     "output_type": "display_data"
    }
   ],
   "source": [
    "plt.boxplot(toyota1[\"Weight\"])"
   ]
  },
  {
   "cell_type": "markdown",
   "id": "e1c24aba",
   "metadata": {},
   "source": [
    "##All the data is not normally distributed. Price, Age, KM, HP, Tax and Weight have outliers."
   ]
  },
  {
   "cell_type": "code",
   "execution_count": 67,
   "id": "678186af",
   "metadata": {},
   "outputs": [
    {
     "data": {
      "text/html": [
       "<div>\n",
       "<style scoped>\n",
       "    .dataframe tbody tr th:only-of-type {\n",
       "        vertical-align: middle;\n",
       "    }\n",
       "\n",
       "    .dataframe tbody tr th {\n",
       "        vertical-align: top;\n",
       "    }\n",
       "\n",
       "    .dataframe thead th {\n",
       "        text-align: right;\n",
       "    }\n",
       "</style>\n",
       "<table border=\"1\" class=\"dataframe\">\n",
       "  <thead>\n",
       "    <tr style=\"text-align: right;\">\n",
       "      <th></th>\n",
       "      <th>Price</th>\n",
       "      <th>Age</th>\n",
       "      <th>KM</th>\n",
       "      <th>HP</th>\n",
       "      <th>cc</th>\n",
       "      <th>Doors</th>\n",
       "      <th>Gears</th>\n",
       "      <th>Tax</th>\n",
       "      <th>Weight</th>\n",
       "    </tr>\n",
       "  </thead>\n",
       "  <tbody>\n",
       "    <tr>\n",
       "      <th>Price</th>\n",
       "      <td>1.000000</td>\n",
       "      <td>-0.876590</td>\n",
       "      <td>-0.569960</td>\n",
       "      <td>0.314990</td>\n",
       "      <td>0.126389</td>\n",
       "      <td>0.185326</td>\n",
       "      <td>0.063104</td>\n",
       "      <td>0.219197</td>\n",
       "      <td>0.581198</td>\n",
       "    </tr>\n",
       "    <tr>\n",
       "      <th>Age</th>\n",
       "      <td>-0.876590</td>\n",
       "      <td>1.000000</td>\n",
       "      <td>0.505672</td>\n",
       "      <td>-0.156622</td>\n",
       "      <td>-0.098084</td>\n",
       "      <td>-0.148359</td>\n",
       "      <td>-0.005364</td>\n",
       "      <td>-0.198431</td>\n",
       "      <td>-0.470253</td>\n",
       "    </tr>\n",
       "    <tr>\n",
       "      <th>KM</th>\n",
       "      <td>-0.569960</td>\n",
       "      <td>0.505672</td>\n",
       "      <td>1.000000</td>\n",
       "      <td>-0.333538</td>\n",
       "      <td>0.102683</td>\n",
       "      <td>-0.036197</td>\n",
       "      <td>0.015023</td>\n",
       "      <td>0.278165</td>\n",
       "      <td>-0.028598</td>\n",
       "    </tr>\n",
       "    <tr>\n",
       "      <th>HP</th>\n",
       "      <td>0.314990</td>\n",
       "      <td>-0.156622</td>\n",
       "      <td>-0.333538</td>\n",
       "      <td>1.000000</td>\n",
       "      <td>0.035856</td>\n",
       "      <td>0.092424</td>\n",
       "      <td>0.209477</td>\n",
       "      <td>-0.298432</td>\n",
       "      <td>0.089614</td>\n",
       "    </tr>\n",
       "    <tr>\n",
       "      <th>cc</th>\n",
       "      <td>0.126389</td>\n",
       "      <td>-0.098084</td>\n",
       "      <td>0.102683</td>\n",
       "      <td>0.035856</td>\n",
       "      <td>1.000000</td>\n",
       "      <td>0.079903</td>\n",
       "      <td>0.014629</td>\n",
       "      <td>0.306996</td>\n",
       "      <td>0.335637</td>\n",
       "    </tr>\n",
       "    <tr>\n",
       "      <th>Doors</th>\n",
       "      <td>0.185326</td>\n",
       "      <td>-0.148359</td>\n",
       "      <td>-0.036197</td>\n",
       "      <td>0.092424</td>\n",
       "      <td>0.079903</td>\n",
       "      <td>1.000000</td>\n",
       "      <td>-0.160141</td>\n",
       "      <td>0.109363</td>\n",
       "      <td>0.302618</td>\n",
       "    </tr>\n",
       "    <tr>\n",
       "      <th>Gears</th>\n",
       "      <td>0.063104</td>\n",
       "      <td>-0.005364</td>\n",
       "      <td>0.015023</td>\n",
       "      <td>0.209477</td>\n",
       "      <td>0.014629</td>\n",
       "      <td>-0.160141</td>\n",
       "      <td>1.000000</td>\n",
       "      <td>-0.005452</td>\n",
       "      <td>0.020613</td>\n",
       "    </tr>\n",
       "    <tr>\n",
       "      <th>Tax</th>\n",
       "      <td>0.219197</td>\n",
       "      <td>-0.198431</td>\n",
       "      <td>0.278165</td>\n",
       "      <td>-0.298432</td>\n",
       "      <td>0.306996</td>\n",
       "      <td>0.109363</td>\n",
       "      <td>-0.005452</td>\n",
       "      <td>1.000000</td>\n",
       "      <td>0.626134</td>\n",
       "    </tr>\n",
       "    <tr>\n",
       "      <th>Weight</th>\n",
       "      <td>0.581198</td>\n",
       "      <td>-0.470253</td>\n",
       "      <td>-0.028598</td>\n",
       "      <td>0.089614</td>\n",
       "      <td>0.335637</td>\n",
       "      <td>0.302618</td>\n",
       "      <td>0.020613</td>\n",
       "      <td>0.626134</td>\n",
       "      <td>1.000000</td>\n",
       "    </tr>\n",
       "  </tbody>\n",
       "</table>\n",
       "</div>"
      ],
      "text/plain": [
       "           Price       Age        KM        HP        cc     Doors     Gears  \\\n",
       "Price   1.000000 -0.876590 -0.569960  0.314990  0.126389  0.185326  0.063104   \n",
       "Age    -0.876590  1.000000  0.505672 -0.156622 -0.098084 -0.148359 -0.005364   \n",
       "KM     -0.569960  0.505672  1.000000 -0.333538  0.102683 -0.036197  0.015023   \n",
       "HP      0.314990 -0.156622 -0.333538  1.000000  0.035856  0.092424  0.209477   \n",
       "cc      0.126389 -0.098084  0.102683  0.035856  1.000000  0.079903  0.014629   \n",
       "Doors   0.185326 -0.148359 -0.036197  0.092424  0.079903  1.000000 -0.160141   \n",
       "Gears   0.063104 -0.005364  0.015023  0.209477  0.014629 -0.160141  1.000000   \n",
       "Tax     0.219197 -0.198431  0.278165 -0.298432  0.306996  0.109363 -0.005452   \n",
       "Weight  0.581198 -0.470253 -0.028598  0.089614  0.335637  0.302618  0.020613   \n",
       "\n",
       "             Tax    Weight  \n",
       "Price   0.219197  0.581198  \n",
       "Age    -0.198431 -0.470253  \n",
       "KM      0.278165 -0.028598  \n",
       "HP     -0.298432  0.089614  \n",
       "cc      0.306996  0.335637  \n",
       "Doors   0.109363  0.302618  \n",
       "Gears  -0.005452  0.020613  \n",
       "Tax     1.000000  0.626134  \n",
       "Weight  0.626134  1.000000  "
      ]
     },
     "execution_count": 67,
     "metadata": {},
     "output_type": "execute_result"
    }
   ],
   "source": [
    "toyota1.corr()"
   ]
  },
  {
   "cell_type": "code",
   "execution_count": 80,
   "id": "d1ec0569",
   "metadata": {},
   "outputs": [
    {
     "data": {
      "text/html": [
       "<table class=\"simpletable\">\n",
       "<caption>OLS Regression Results</caption>\n",
       "<tr>\n",
       "  <th>Dep. Variable:</th>          <td>Price</td>      <th>  R-squared:         </th> <td>   0.863</td> \n",
       "</tr>\n",
       "<tr>\n",
       "  <th>Model:</th>                   <td>OLS</td>       <th>  Adj. R-squared:    </th> <td>   0.862</td> \n",
       "</tr>\n",
       "<tr>\n",
       "  <th>Method:</th>             <td>Least Squares</td>  <th>  F-statistic:       </th> <td>   1797.</td> \n",
       "</tr>\n",
       "<tr>\n",
       "  <th>Date:</th>             <td>Fri, 24 Sep 2021</td> <th>  Prob (F-statistic):</th>  <td>  0.00</td>  \n",
       "</tr>\n",
       "<tr>\n",
       "  <th>Time:</th>                 <td>16:08:09</td>     <th>  Log-Likelihood:    </th> <td> -12381.</td> \n",
       "</tr>\n",
       "<tr>\n",
       "  <th>No. Observations:</th>      <td>  1436</td>      <th>  AIC:               </th> <td>2.477e+04</td>\n",
       "</tr>\n",
       "<tr>\n",
       "  <th>Df Residuals:</th>          <td>  1430</td>      <th>  BIC:               </th> <td>2.481e+04</td>\n",
       "</tr>\n",
       "<tr>\n",
       "  <th>Df Model:</th>              <td>     5</td>      <th>                     </th>     <td> </td>    \n",
       "</tr>\n",
       "<tr>\n",
       "  <th>Covariance Type:</th>      <td>nonrobust</td>    <th>                     </th>     <td> </td>    \n",
       "</tr>\n",
       "</table>\n",
       "<table class=\"simpletable\">\n",
       "<tr>\n",
       "      <td></td>         <th>coef</th>     <th>std err</th>      <th>t</th>      <th>P>|t|</th>  <th>[0.025</th>    <th>0.975]</th>  \n",
       "</tr>\n",
       "<tr>\n",
       "  <th>Intercept</th> <td>-2554.4355</td> <td> 1048.246</td> <td>   -2.437</td> <td> 0.015</td> <td>-4610.700</td> <td> -498.171</td>\n",
       "</tr>\n",
       "<tr>\n",
       "  <th>Age</th>       <td> -121.8366</td> <td>    2.623</td> <td>  -46.454</td> <td> 0.000</td> <td> -126.981</td> <td> -116.692</td>\n",
       "</tr>\n",
       "<tr>\n",
       "  <th>KM</th>        <td>   -0.0207</td> <td>    0.001</td> <td>  -16.543</td> <td> 0.000</td> <td>   -0.023</td> <td>   -0.018</td>\n",
       "</tr>\n",
       "<tr>\n",
       "  <th>HP</th>        <td>   33.3411</td> <td>    2.731</td> <td>   12.209</td> <td> 0.000</td> <td>   27.984</td> <td>   38.698</td>\n",
       "</tr>\n",
       "<tr>\n",
       "  <th>Tax</th>       <td>    3.9716</td> <td>    1.298</td> <td>    3.060</td> <td> 0.002</td> <td>    1.425</td> <td>    6.518</td>\n",
       "</tr>\n",
       "<tr>\n",
       "  <th>Weight</th>    <td>   16.5860</td> <td>    1.022</td> <td>   16.224</td> <td> 0.000</td> <td>   14.581</td> <td>   18.591</td>\n",
       "</tr>\n",
       "</table>\n",
       "<table class=\"simpletable\">\n",
       "<tr>\n",
       "  <th>Omnibus:</th>       <td>144.527</td> <th>  Durbin-Watson:     </th> <td>   1.545</td> \n",
       "</tr>\n",
       "<tr>\n",
       "  <th>Prob(Omnibus):</th> <td> 0.000</td>  <th>  Jarque-Bera (JB):  </th> <td> 910.235</td> \n",
       "</tr>\n",
       "<tr>\n",
       "  <th>Skew:</th>          <td>-0.209</td>  <th>  Prob(JB):          </th> <td>2.21e-198</td>\n",
       "</tr>\n",
       "<tr>\n",
       "  <th>Kurtosis:</th>      <td> 6.878</td>  <th>  Cond. No.          </th> <td>2.30e+06</td> \n",
       "</tr>\n",
       "</table><br/><br/>Notes:<br/>[1] Standard Errors assume that the covariance matrix of the errors is correctly specified.<br/>[2] The condition number is large, 2.3e+06. This might indicate that there are<br/>strong multicollinearity or other numerical problems."
      ],
      "text/plain": [
       "<class 'statsmodels.iolib.summary.Summary'>\n",
       "\"\"\"\n",
       "                            OLS Regression Results                            \n",
       "==============================================================================\n",
       "Dep. Variable:                  Price   R-squared:                       0.863\n",
       "Model:                            OLS   Adj. R-squared:                  0.862\n",
       "Method:                 Least Squares   F-statistic:                     1797.\n",
       "Date:                Fri, 24 Sep 2021   Prob (F-statistic):               0.00\n",
       "Time:                        16:08:09   Log-Likelihood:                -12381.\n",
       "No. Observations:                1436   AIC:                         2.477e+04\n",
       "Df Residuals:                    1430   BIC:                         2.481e+04\n",
       "Df Model:                           5                                         \n",
       "Covariance Type:            nonrobust                                         \n",
       "==============================================================================\n",
       "                 coef    std err          t      P>|t|      [0.025      0.975]\n",
       "------------------------------------------------------------------------------\n",
       "Intercept  -2554.4355   1048.246     -2.437      0.015   -4610.700    -498.171\n",
       "Age         -121.8366      2.623    -46.454      0.000    -126.981    -116.692\n",
       "KM            -0.0207      0.001    -16.543      0.000      -0.023      -0.018\n",
       "HP            33.3411      2.731     12.209      0.000      27.984      38.698\n",
       "Tax            3.9716      1.298      3.060      0.002       1.425       6.518\n",
       "Weight        16.5860      1.022     16.224      0.000      14.581      18.591\n",
       "==============================================================================\n",
       "Omnibus:                      144.527   Durbin-Watson:                   1.545\n",
       "Prob(Omnibus):                  0.000   Jarque-Bera (JB):              910.235\n",
       "Skew:                          -0.209   Prob(JB):                    2.21e-198\n",
       "Kurtosis:                       6.878   Cond. No.                     2.30e+06\n",
       "==============================================================================\n",
       "\n",
       "Notes:\n",
       "[1] Standard Errors assume that the covariance matrix of the errors is correctly specified.\n",
       "[2] The condition number is large, 2.3e+06. This might indicate that there are\n",
       "strong multicollinearity or other numerical problems.\n",
       "\"\"\""
      ]
     },
     "execution_count": 80,
     "metadata": {},
     "output_type": "execute_result"
    }
   ],
   "source": [
    "## Model 1\n",
    "\n",
    "import statsmodels.formula.api as smf\n",
    "ml1= smf.ols(\"Price~Age+KM+HP+Tax+Weight\",data= toyota1).fit()\n",
    "ml1.summary()"
   ]
  },
  {
   "cell_type": "code",
   "execution_count": 128,
   "id": "f99b0b86",
   "metadata": {},
   "outputs": [
    {
     "data": {
      "text/plain": [
       "1.8843557151438246"
      ]
     },
     "execution_count": 128,
     "metadata": {},
     "output_type": "execute_result"
    }
   ],
   "source": [
    "# calculating VIF's values of independent variables\n",
    "rsq_Age = smf.ols('Age ~ KM+HP+Tax+Doors+Gears+Weight', data=toyota1).fit().rsquared  \n",
    "vif_Age = 1/(1-rsq_Age) \n",
    "vif_Age"
   ]
  },
  {
   "cell_type": "code",
   "execution_count": 129,
   "id": "ada177c5",
   "metadata": {},
   "outputs": [
    {
     "data": {
      "text/plain": [
       "1.747921337909096"
      ]
     },
     "execution_count": 129,
     "metadata": {},
     "output_type": "execute_result"
    }
   ],
   "source": [
    "rsq_KM = smf.ols('KM ~ Age+HP+Tax+Doors+Gears+Weight', data=toyota1).fit().rsquared  \n",
    "vif_KM = 1/(1-rsq_KM) \n",
    "vif_KM"
   ]
  },
  {
   "cell_type": "code",
   "execution_count": 127,
   "id": "4c825865",
   "metadata": {},
   "outputs": [
    {
     "data": {
      "text/plain": [
       "1.4072843195661855"
      ]
     },
     "execution_count": 127,
     "metadata": {},
     "output_type": "execute_result"
    }
   ],
   "source": [
    "rsq_HP = smf.ols('HP ~ Age+KM+Tax+Doors+Gears+Weight', data=toyota1).fit().rsquared  \n",
    "vif_HP = 1/(1-rsq_HP) \n",
    "vif_HP"
   ]
  },
  {
   "cell_type": "code",
   "execution_count": 130,
   "id": "3e36a935",
   "metadata": {},
   "outputs": [
    {
     "data": {
      "text/plain": [
       "2.2773422651126327"
      ]
     },
     "execution_count": 130,
     "metadata": {},
     "output_type": "execute_result"
    }
   ],
   "source": [
    "rsq_Tax = smf.ols('Tax ~ Age+KM+HP+Doors+Gears+Weight', data=toyota1).fit().rsquared\n",
    "vif_Tax = 1/(1-rsq_Tax) \n",
    "vif_Tax"
   ]
  },
  {
   "cell_type": "code",
   "execution_count": 132,
   "id": "b6a507ef",
   "metadata": {},
   "outputs": [
    {
     "data": {
      "text/plain": [
       "1.156277920320448"
      ]
     },
     "execution_count": 132,
     "metadata": {},
     "output_type": "execute_result"
    }
   ],
   "source": [
    "rsq_Doors = smf.ols('Doors ~ Age+KM+HP+Tax+Gears+Weight', data=toyota1).fit().rsquared\n",
    "vif_Doors = 1/(1-rsq_Doors) \n",
    "vif_Doors"
   ]
  },
  {
   "cell_type": "code",
   "execution_count": 99,
   "id": "88f9375f",
   "metadata": {},
   "outputs": [
    {
     "data": {
      "text/plain": [
       "2.2926201650751485"
      ]
     },
     "execution_count": 99,
     "metadata": {},
     "output_type": "execute_result"
    }
   ],
   "source": [
    "rsq_Weight = smf.ols('Weight ~ Age+KM+HP+Tax', data=toyota1).fit().rsquared\n",
    "vif_Weight = 1/(1-rsq_Weight) \n",
    "vif_Weight"
   ]
  },
  {
   "cell_type": "code",
   "execution_count": 133,
   "id": "ab59e67f",
   "metadata": {},
   "outputs": [
    {
     "data": {
      "text/plain": [
       "1.0984799032075543"
      ]
     },
     "execution_count": 133,
     "metadata": {},
     "output_type": "execute_result"
    }
   ],
   "source": [
    "rsq_Gears = smf.ols('Gears ~ Age+KM+HP+Doors+Tax+Weight', data=toyota1).fit().rsquared\n",
    "vif_Gears = 1/(1-rsq_Gears) \n",
    "vif_Gears"
   ]
  },
  {
   "cell_type": "code",
   "execution_count": 134,
   "id": "89c800e2",
   "metadata": {},
   "outputs": [
    {
     "data": {
      "text/html": [
       "<div>\n",
       "<style scoped>\n",
       "    .dataframe tbody tr th:only-of-type {\n",
       "        vertical-align: middle;\n",
       "    }\n",
       "\n",
       "    .dataframe tbody tr th {\n",
       "        vertical-align: top;\n",
       "    }\n",
       "\n",
       "    .dataframe thead th {\n",
       "        text-align: right;\n",
       "    }\n",
       "</style>\n",
       "<table border=\"1\" class=\"dataframe\">\n",
       "  <thead>\n",
       "    <tr style=\"text-align: right;\">\n",
       "      <th></th>\n",
       "      <th>Variables</th>\n",
       "      <th>VIF</th>\n",
       "    </tr>\n",
       "  </thead>\n",
       "  <tbody>\n",
       "    <tr>\n",
       "      <th>0</th>\n",
       "      <td>Age</td>\n",
       "      <td>1.884356</td>\n",
       "    </tr>\n",
       "    <tr>\n",
       "      <th>1</th>\n",
       "      <td>KM</td>\n",
       "      <td>1.747921</td>\n",
       "    </tr>\n",
       "    <tr>\n",
       "      <th>2</th>\n",
       "      <td>HP</td>\n",
       "      <td>1.407284</td>\n",
       "    </tr>\n",
       "    <tr>\n",
       "      <th>3</th>\n",
       "      <td>Tax</td>\n",
       "      <td>1.156278</td>\n",
       "    </tr>\n",
       "    <tr>\n",
       "      <th>4</th>\n",
       "      <td>Doors</td>\n",
       "      <td>1.156278</td>\n",
       "    </tr>\n",
       "    <tr>\n",
       "      <th>5</th>\n",
       "      <td>Gears</td>\n",
       "      <td>1.098480</td>\n",
       "    </tr>\n",
       "    <tr>\n",
       "      <th>6</th>\n",
       "      <td>Weight</td>\n",
       "      <td>2.292620</td>\n",
       "    </tr>\n",
       "  </tbody>\n",
       "</table>\n",
       "</div>"
      ],
      "text/plain": [
       "  Variables       VIF\n",
       "0       Age  1.884356\n",
       "1        KM  1.747921\n",
       "2        HP  1.407284\n",
       "3       Tax  1.156278\n",
       "4     Doors  1.156278\n",
       "5     Gears  1.098480\n",
       "6    Weight  2.292620"
      ]
     },
     "execution_count": 134,
     "metadata": {},
     "output_type": "execute_result"
    }
   ],
   "source": [
    "Toyota1 = {'Variables':['Age','KM','HP','Tax','Doors','Gears','Weight'],'VIF':[vif_Age,vif_KM,vif_HP,vif_Tax,vif_Doors,vif_Gears,vif_Weight]}\n",
    "Vif_frame = pd.DataFrame(Toyota1)  \n",
    "Vif_frame"
   ]
  },
  {
   "cell_type": "code",
   "execution_count": null,
   "id": "79741bbf",
   "metadata": {},
   "outputs": [],
   "source": [
    "rsq_Tax = smf.ols('Tax ~ Age+KM+HP+Weight', data=toyota1).fit().rsquared  \n",
    "vif_Tax = 1/(1-rsq_Tax) \n",
    "vif_Tax"
   ]
  },
  {
   "cell_type": "markdown",
   "id": "23cec72e",
   "metadata": {},
   "source": [
    "##Removed columns CC"
   ]
  },
  {
   "cell_type": "code",
   "execution_count": 101,
   "id": "7c0f594e",
   "metadata": {},
   "outputs": [
    {
     "data": {
      "image/png": "[encoded data removed]",
      "text/plain": [
       "<Figure size 432x288 with 1 Axes>"
      ]
     },
     "metadata": {
      "needs_background": "light"
     },
     "output_type": "display_data"
    }
   ],
   "source": [
    "# 2. Leverage Value using High Influence Points : Points beyond Leverage_cutoff value are influencers\n",
    "influence_plot(ml1)\n",
    "plt.show()"
   ]
  },
  {
   "cell_type": "code",
   "execution_count": 103,
   "id": "abac1bdd",
   "metadata": {},
   "outputs": [
    {
     "data": {
      "text/html": [
       "<div>\n",
       "<style scoped>\n",
       "    .dataframe tbody tr th:only-of-type {\n",
       "        vertical-align: middle;\n",
       "    }\n",
       "\n",
       "    .dataframe tbody tr th {\n",
       "        vertical-align: top;\n",
       "    }\n",
       "\n",
       "    .dataframe thead th {\n",
       "        text-align: right;\n",
       "    }\n",
       "</style>\n",
       "<table border=\"1\" class=\"dataframe\">\n",
       "  <thead>\n",
       "    <tr style=\"text-align: right;\">\n",
       "      <th></th>\n",
       "      <th>Price</th>\n",
       "      <th>Age</th>\n",
       "      <th>KM</th>\n",
       "      <th>HP</th>\n",
       "      <th>cc</th>\n",
       "      <th>Doors</th>\n",
       "      <th>Gears</th>\n",
       "      <th>Tax</th>\n",
       "      <th>Weight</th>\n",
       "    </tr>\n",
       "  </thead>\n",
       "  <tbody>\n",
       "    <tr>\n",
       "      <th>110</th>\n",
       "      <td>31000</td>\n",
       "      <td>4</td>\n",
       "      <td>4000</td>\n",
       "      <td>116</td>\n",
       "      <td>2000</td>\n",
       "      <td>5</td>\n",
       "      <td>5</td>\n",
       "      <td>283</td>\n",
       "      <td>1480</td>\n",
       "    </tr>\n",
       "    <tr>\n",
       "      <th>221</th>\n",
       "      <td>12450</td>\n",
       "      <td>44</td>\n",
       "      <td>74172</td>\n",
       "      <td>110</td>\n",
       "      <td>1600</td>\n",
       "      <td>5</td>\n",
       "      <td>5</td>\n",
       "      <td>163</td>\n",
       "      <td>1615</td>\n",
       "    </tr>\n",
       "    <tr>\n",
       "      <th>601</th>\n",
       "      <td>7500</td>\n",
       "      <td>50</td>\n",
       "      <td>1</td>\n",
       "      <td>90</td>\n",
       "      <td>2000</td>\n",
       "      <td>3</td>\n",
       "      <td>5</td>\n",
       "      <td>64</td>\n",
       "      <td>1260</td>\n",
       "    </tr>\n",
       "    <tr>\n",
       "      <th>654</th>\n",
       "      <td>6950</td>\n",
       "      <td>65</td>\n",
       "      <td>114383</td>\n",
       "      <td>90</td>\n",
       "      <td>2000</td>\n",
       "      <td>3</td>\n",
       "      <td>5</td>\n",
       "      <td>64</td>\n",
       "      <td>1260</td>\n",
       "    </tr>\n",
       "    <tr>\n",
       "      <th>960</th>\n",
       "      <td>9390</td>\n",
       "      <td>66</td>\n",
       "      <td>50806</td>\n",
       "      <td>86</td>\n",
       "      <td>1300</td>\n",
       "      <td>3</td>\n",
       "      <td>5</td>\n",
       "      <td>19</td>\n",
       "      <td>1480</td>\n",
       "    </tr>\n",
       "    <tr>\n",
       "      <th>1044</th>\n",
       "      <td>5900</td>\n",
       "      <td>73</td>\n",
       "      <td>232940</td>\n",
       "      <td>72</td>\n",
       "      <td>2000</td>\n",
       "      <td>5</td>\n",
       "      <td>5</td>\n",
       "      <td>40</td>\n",
       "      <td>1172</td>\n",
       "    </tr>\n",
       "  </tbody>\n",
       "</table>\n",
       "</div>"
      ],
      "text/plain": [
       "      Price  Age      KM   HP    cc  Doors  Gears  Tax  Weight\n",
       "110   31000    4    4000  116  2000      5      5  283    1480\n",
       "221   12450   44   74172  110  1600      5      5  163    1615\n",
       "601    7500   50       1   90  2000      3      5   64    1260\n",
       "654    6950   65  114383   90  2000      3      5   64    1260\n",
       "960    9390   66   50806   86  1300      3      5   19    1480\n",
       "1044   5900   73  232940   72  2000      5      5   40    1172"
      ]
     },
     "execution_count": 103,
     "metadata": {},
     "output_type": "execute_result"
    }
   ],
   "source": [
    "## Checking influence\n",
    "toyota1[toyota1.index.isin([110,221,601,654,960,1044])]"
   ]
  },
  {
   "cell_type": "code",
   "execution_count": 108,
   "id": "3d48c84c",
   "metadata": {},
   "outputs": [
    {
     "data": {
      "text/html": [
       "<div>\n",
       "<style scoped>\n",
       "    .dataframe tbody tr th:only-of-type {\n",
       "        vertical-align: middle;\n",
       "    }\n",
       "\n",
       "    .dataframe tbody tr th {\n",
       "        vertical-align: top;\n",
       "    }\n",
       "\n",
       "    .dataframe thead th {\n",
       "        text-align: right;\n",
       "    }\n",
       "</style>\n",
       "<table border=\"1\" class=\"dataframe\">\n",
       "  <thead>\n",
       "    <tr style=\"text-align: right;\">\n",
       "      <th></th>\n",
       "      <th>Price</th>\n",
       "      <th>Age</th>\n",
       "      <th>KM</th>\n",
       "      <th>HP</th>\n",
       "      <th>cc</th>\n",
       "      <th>Doors</th>\n",
       "      <th>Gears</th>\n",
       "      <th>Tax</th>\n",
       "      <th>Weight</th>\n",
       "    </tr>\n",
       "  </thead>\n",
       "  <tbody>\n",
       "    <tr>\n",
       "      <th>0</th>\n",
       "      <td>13500</td>\n",
       "      <td>23</td>\n",
       "      <td>46986</td>\n",
       "      <td>90</td>\n",
       "      <td>2000</td>\n",
       "      <td>3</td>\n",
       "      <td>5</td>\n",
       "      <td>210</td>\n",
       "      <td>1165</td>\n",
       "    </tr>\n",
       "    <tr>\n",
       "      <th>1</th>\n",
       "      <td>13750</td>\n",
       "      <td>23</td>\n",
       "      <td>72937</td>\n",
       "      <td>90</td>\n",
       "      <td>2000</td>\n",
       "      <td>3</td>\n",
       "      <td>5</td>\n",
       "      <td>210</td>\n",
       "      <td>1165</td>\n",
       "    </tr>\n",
       "    <tr>\n",
       "      <th>2</th>\n",
       "      <td>13950</td>\n",
       "      <td>24</td>\n",
       "      <td>41711</td>\n",
       "      <td>90</td>\n",
       "      <td>2000</td>\n",
       "      <td>3</td>\n",
       "      <td>5</td>\n",
       "      <td>210</td>\n",
       "      <td>1165</td>\n",
       "    </tr>\n",
       "    <tr>\n",
       "      <th>3</th>\n",
       "      <td>14950</td>\n",
       "      <td>26</td>\n",
       "      <td>48000</td>\n",
       "      <td>90</td>\n",
       "      <td>2000</td>\n",
       "      <td>3</td>\n",
       "      <td>5</td>\n",
       "      <td>210</td>\n",
       "      <td>1165</td>\n",
       "    </tr>\n",
       "    <tr>\n",
       "      <th>4</th>\n",
       "      <td>13750</td>\n",
       "      <td>30</td>\n",
       "      <td>38500</td>\n",
       "      <td>90</td>\n",
       "      <td>2000</td>\n",
       "      <td>3</td>\n",
       "      <td>5</td>\n",
       "      <td>210</td>\n",
       "      <td>1170</td>\n",
       "    </tr>\n",
       "    <tr>\n",
       "      <th>...</th>\n",
       "      <td>...</td>\n",
       "      <td>...</td>\n",
       "      <td>...</td>\n",
       "      <td>...</td>\n",
       "      <td>...</td>\n",
       "      <td>...</td>\n",
       "      <td>...</td>\n",
       "      <td>...</td>\n",
       "      <td>...</td>\n",
       "    </tr>\n",
       "    <tr>\n",
       "      <th>1425</th>\n",
       "      <td>7500</td>\n",
       "      <td>69</td>\n",
       "      <td>20544</td>\n",
       "      <td>86</td>\n",
       "      <td>1300</td>\n",
       "      <td>3</td>\n",
       "      <td>5</td>\n",
       "      <td>69</td>\n",
       "      <td>1025</td>\n",
       "    </tr>\n",
       "    <tr>\n",
       "      <th>1426</th>\n",
       "      <td>10845</td>\n",
       "      <td>72</td>\n",
       "      <td>19000</td>\n",
       "      <td>86</td>\n",
       "      <td>1300</td>\n",
       "      <td>3</td>\n",
       "      <td>5</td>\n",
       "      <td>69</td>\n",
       "      <td>1015</td>\n",
       "    </tr>\n",
       "    <tr>\n",
       "      <th>1427</th>\n",
       "      <td>8500</td>\n",
       "      <td>71</td>\n",
       "      <td>17016</td>\n",
       "      <td>86</td>\n",
       "      <td>1300</td>\n",
       "      <td>3</td>\n",
       "      <td>5</td>\n",
       "      <td>69</td>\n",
       "      <td>1015</td>\n",
       "    </tr>\n",
       "    <tr>\n",
       "      <th>1428</th>\n",
       "      <td>7250</td>\n",
       "      <td>70</td>\n",
       "      <td>16916</td>\n",
       "      <td>86</td>\n",
       "      <td>1300</td>\n",
       "      <td>3</td>\n",
       "      <td>5</td>\n",
       "      <td>69</td>\n",
       "      <td>1015</td>\n",
       "    </tr>\n",
       "    <tr>\n",
       "      <th>1429</th>\n",
       "      <td>6950</td>\n",
       "      <td>76</td>\n",
       "      <td>1</td>\n",
       "      <td>110</td>\n",
       "      <td>1600</td>\n",
       "      <td>5</td>\n",
       "      <td>5</td>\n",
       "      <td>19</td>\n",
       "      <td>1114</td>\n",
       "    </tr>\n",
       "  </tbody>\n",
       "</table>\n",
       "<p>1430 rows × 9 columns</p>\n",
       "</div>"
      ],
      "text/plain": [
       "      Price  Age     KM   HP    cc  Doors  Gears  Tax  Weight\n",
       "0     13500   23  46986   90  2000      3      5  210    1165\n",
       "1     13750   23  72937   90  2000      3      5  210    1165\n",
       "2     13950   24  41711   90  2000      3      5  210    1165\n",
       "3     14950   26  48000   90  2000      3      5  210    1165\n",
       "4     13750   30  38500   90  2000      3      5  210    1170\n",
       "...     ...  ...    ...  ...   ...    ...    ...  ...     ...\n",
       "1425   7500   69  20544   86  1300      3      5   69    1025\n",
       "1426  10845   72  19000   86  1300      3      5   69    1015\n",
       "1427   8500   71  17016   86  1300      3      5   69    1015\n",
       "1428   7250   70  16916   86  1300      3      5   69    1015\n",
       "1429   6950   76      1  110  1600      5      5   19    1114\n",
       "\n",
       "[1430 rows x 9 columns]"
      ]
     },
     "execution_count": 108,
     "metadata": {},
     "output_type": "execute_result"
    }
   ],
   "source": [
    "# Discard the data points which are influencers and reassign the row number (reset_index(drop=True))\n",
    "toyota2=toyota1.drop(toyota1.index[[110,221,601,654,960,1044]],axis=0).reset_index(drop=True)\n",
    "toyota2"
   ]
  },
  {
   "cell_type": "code",
   "execution_count": 126,
   "id": "7314bc17",
   "metadata": {},
   "outputs": [
    {
     "data": {
      "text/html": [
       "<table class=\"simpletable\">\n",
       "<caption>OLS Regression Results</caption>\n",
       "<tr>\n",
       "  <th>Dep. Variable:</th>          <td>Price</td>      <th>  R-squared:         </th> <td>   0.876</td> \n",
       "</tr>\n",
       "<tr>\n",
       "  <th>Model:</th>                   <td>OLS</td>       <th>  Adj. R-squared:    </th> <td>   0.875</td> \n",
       "</tr>\n",
       "<tr>\n",
       "  <th>Method:</th>             <td>Least Squares</td>  <th>  F-statistic:       </th> <td>   2010.</td> \n",
       "</tr>\n",
       "<tr>\n",
       "  <th>Date:</th>             <td>Mon, 27 Sep 2021</td> <th>  Prob (F-statistic):</th>  <td>  0.00</td>  \n",
       "</tr>\n",
       "<tr>\n",
       "  <th>Time:</th>                 <td>08:16:33</td>     <th>  Log-Likelihood:    </th> <td> -12242.</td> \n",
       "</tr>\n",
       "<tr>\n",
       "  <th>No. Observations:</th>      <td>  1430</td>      <th>  AIC:               </th> <td>2.450e+04</td>\n",
       "</tr>\n",
       "<tr>\n",
       "  <th>Df Residuals:</th>          <td>  1424</td>      <th>  BIC:               </th> <td>2.453e+04</td>\n",
       "</tr>\n",
       "<tr>\n",
       "  <th>Df Model:</th>              <td>     5</td>      <th>                     </th>     <td> </td>    \n",
       "</tr>\n",
       "<tr>\n",
       "  <th>Covariance Type:</th>      <td>nonrobust</td>    <th>                     </th>     <td> </td>    \n",
       "</tr>\n",
       "</table>\n",
       "<table class=\"simpletable\">\n",
       "<tr>\n",
       "      <td></td>         <th>coef</th>     <th>std err</th>      <th>t</th>      <th>P>|t|</th>  <th>[0.025</th>    <th>0.975]</th>  \n",
       "</tr>\n",
       "<tr>\n",
       "  <th>Intercept</th> <td>-1.026e+04</td> <td> 1197.552</td> <td>   -8.570</td> <td> 0.000</td> <td>-1.26e+04</td> <td>-7913.438</td>\n",
       "</tr>\n",
       "<tr>\n",
       "  <th>Age</th>       <td> -114.0827</td> <td>    2.555</td> <td>  -44.643</td> <td> 0.000</td> <td> -119.096</td> <td> -109.070</td>\n",
       "</tr>\n",
       "<tr>\n",
       "  <th>KM</th>        <td>   -0.0213</td> <td>    0.001</td> <td>  -17.878</td> <td> 0.000</td> <td>   -0.024</td> <td>   -0.019</td>\n",
       "</tr>\n",
       "<tr>\n",
       "  <th>HP</th>        <td>   25.0628</td> <td>    2.661</td> <td>    9.417</td> <td> 0.000</td> <td>   19.842</td> <td>   30.283</td>\n",
       "</tr>\n",
       "<tr>\n",
       "  <th>Tax</th>       <td>   -2.9468</td> <td>    1.353</td> <td>   -2.178</td> <td> 0.030</td> <td>   -5.601</td> <td>   -0.292</td>\n",
       "</tr>\n",
       "<tr>\n",
       "  <th>Weight</th>    <td>   24.7808</td> <td>    1.197</td> <td>   20.707</td> <td> 0.000</td> <td>   22.433</td> <td>   27.128</td>\n",
       "</tr>\n",
       "</table>\n",
       "<table class=\"simpletable\">\n",
       "<tr>\n",
       "  <th>Omnibus:</th>       <td>61.602</td> <th>  Durbin-Watson:     </th> <td>   1.666</td>\n",
       "</tr>\n",
       "<tr>\n",
       "  <th>Prob(Omnibus):</th> <td> 0.000</td> <th>  Jarque-Bera (JB):  </th> <td> 192.218</td>\n",
       "</tr>\n",
       "<tr>\n",
       "  <th>Skew:</th>          <td>-0.005</td> <th>  Prob(JB):          </th> <td>1.82e-42</td>\n",
       "</tr>\n",
       "<tr>\n",
       "  <th>Kurtosis:</th>      <td> 4.796</td> <th>  Cond. No.          </th> <td>2.79e+06</td>\n",
       "</tr>\n",
       "</table><br/><br/>Notes:<br/>[1] Standard Errors assume that the covariance matrix of the errors is correctly specified.<br/>[2] The condition number is large, 2.79e+06. This might indicate that there are<br/>strong multicollinearity or other numerical problems."
      ],
      "text/plain": [
       "<class 'statsmodels.iolib.summary.Summary'>\n",
       "\"\"\"\n",
       "                            OLS Regression Results                            \n",
       "==============================================================================\n",
       "Dep. Variable:                  Price   R-squared:                       0.876\n",
       "Model:                            OLS   Adj. R-squared:                  0.875\n",
       "Method:                 Least Squares   F-statistic:                     2010.\n",
       "Date:                Mon, 27 Sep 2021   Prob (F-statistic):               0.00\n",
       "Time:                        08:16:33   Log-Likelihood:                -12242.\n",
       "No. Observations:                1430   AIC:                         2.450e+04\n",
       "Df Residuals:                    1424   BIC:                         2.453e+04\n",
       "Df Model:                           5                                         \n",
       "Covariance Type:            nonrobust                                         \n",
       "==============================================================================\n",
       "                 coef    std err          t      P>|t|      [0.025      0.975]\n",
       "------------------------------------------------------------------------------\n",
       "Intercept  -1.026e+04   1197.552     -8.570      0.000   -1.26e+04   -7913.438\n",
       "Age         -114.0827      2.555    -44.643      0.000    -119.096    -109.070\n",
       "KM            -0.0213      0.001    -17.878      0.000      -0.024      -0.019\n",
       "HP            25.0628      2.661      9.417      0.000      19.842      30.283\n",
       "Tax           -2.9468      1.353     -2.178      0.030      -5.601      -0.292\n",
       "Weight        24.7808      1.197     20.707      0.000      22.433      27.128\n",
       "==============================================================================\n",
       "Omnibus:                       61.602   Durbin-Watson:                   1.666\n",
       "Prob(Omnibus):                  0.000   Jarque-Bera (JB):              192.218\n",
       "Skew:                          -0.005   Prob(JB):                     1.82e-42\n",
       "Kurtosis:                       4.796   Cond. No.                     2.79e+06\n",
       "==============================================================================\n",
       "\n",
       "Notes:\n",
       "[1] Standard Errors assume that the covariance matrix of the errors is correctly specified.\n",
       "[2] The condition number is large, 2.79e+06. This might indicate that there are\n",
       "strong multicollinearity or other numerical problems.\n",
       "\"\"\""
      ]
     },
     "execution_count": 126,
     "metadata": {},
     "output_type": "execute_result"
    }
   ],
   "source": [
    "## Final model\n",
    "finalmodel= smf.ols(\"Price~Age+KM+HP+Tax+Doors+Gears+Weight\",data= toyota2).fit()\n",
    "finalmodel.summary()"
   ]
  },
  {
   "cell_type": "code",
   "execution_count": 144,
   "id": "dcd8a670",
   "metadata": {},
   "outputs": [],
   "source": [
    "### Splitting the data into train and test data \n",
    "from sklearn.model_selection import train_test_split\n",
    "toyota1_train, toyota1_test  = train_test_split(toyota2, test_size = 0.3) # 30% test data\n"
   ]
  },
  {
   "cell_type": "code",
   "execution_count": 136,
   "id": "6e37964c",
   "metadata": {},
   "outputs": [
    {
     "data": {
      "text/html": [
       "<table class=\"simpletable\">\n",
       "<caption>OLS Regression Results</caption>\n",
       "<tr>\n",
       "  <th>Dep. Variable:</th>          <td>Price</td>      <th>  R-squared:         </th> <td>   0.877</td> \n",
       "</tr>\n",
       "<tr>\n",
       "  <th>Model:</th>                   <td>OLS</td>       <th>  Adj. R-squared:    </th> <td>   0.876</td> \n",
       "</tr>\n",
       "<tr>\n",
       "  <th>Method:</th>             <td>Least Squares</td>  <th>  F-statistic:       </th> <td>   1688.</td> \n",
       "</tr>\n",
       "<tr>\n",
       "  <th>Date:</th>             <td>Mon, 27 Sep 2021</td> <th>  Prob (F-statistic):</th>  <td>  0.00</td>  \n",
       "</tr>\n",
       "<tr>\n",
       "  <th>Time:</th>                 <td>08:27:09</td>     <th>  Log-Likelihood:    </th> <td> -12237.</td> \n",
       "</tr>\n",
       "<tr>\n",
       "  <th>No. Observations:</th>      <td>  1430</td>      <th>  AIC:               </th> <td>2.449e+04</td>\n",
       "</tr>\n",
       "<tr>\n",
       "  <th>Df Residuals:</th>          <td>  1423</td>      <th>  BIC:               </th> <td>2.453e+04</td>\n",
       "</tr>\n",
       "<tr>\n",
       "  <th>Df Model:</th>              <td>     6</td>      <th>                     </th>     <td> </td>    \n",
       "</tr>\n",
       "<tr>\n",
       "  <th>Covariance Type:</th>      <td>nonrobust</td>    <th>                     </th>     <td> </td>    \n",
       "</tr>\n",
       "</table>\n",
       "<table class=\"simpletable\">\n",
       "<tr>\n",
       "      <td></td>         <th>coef</th>     <th>std err</th>      <th>t</th>      <th>P>|t|</th>  <th>[0.025</th>    <th>0.975]</th>  \n",
       "</tr>\n",
       "<tr>\n",
       "  <th>Intercept</th> <td>-1.112e+04</td> <td> 1222.536</td> <td>   -9.095</td> <td> 0.000</td> <td>-1.35e+04</td> <td>-8721.332</td>\n",
       "</tr>\n",
       "<tr>\n",
       "  <th>Age</th>       <td> -113.6307</td> <td>    2.551</td> <td>  -44.547</td> <td> 0.000</td> <td> -118.634</td> <td> -108.627</td>\n",
       "</tr>\n",
       "<tr>\n",
       "  <th>KM</th>        <td>   -0.0213</td> <td>    0.001</td> <td>  -17.934</td> <td> 0.000</td> <td>   -0.024</td> <td>   -0.019</td>\n",
       "</tr>\n",
       "<tr>\n",
       "  <th>HP</th>        <td>   24.8203</td> <td>    2.654</td> <td>    9.354</td> <td> 0.000</td> <td>   19.615</td> <td>   30.026</td>\n",
       "</tr>\n",
       "<tr>\n",
       "  <th>Doors</th>     <td> -122.4510</td> <td>   37.798</td> <td>   -3.240</td> <td> 0.001</td> <td> -196.596</td> <td>  -48.306</td>\n",
       "</tr>\n",
       "<tr>\n",
       "  <th>Tax</th>       <td>   -3.6726</td> <td>    1.367</td> <td>   -2.686</td> <td> 0.007</td> <td>   -6.355</td> <td>   -0.991</td>\n",
       "</tr>\n",
       "<tr>\n",
       "  <th>Weight</th>    <td>   26.0999</td> <td>    1.260</td> <td>   20.709</td> <td> 0.000</td> <td>   23.628</td> <td>   28.572</td>\n",
       "</tr>\n",
       "</table>\n",
       "<table class=\"simpletable\">\n",
       "<tr>\n",
       "  <th>Omnibus:</th>       <td>61.956</td> <th>  Durbin-Watson:     </th> <td>   1.680</td>\n",
       "</tr>\n",
       "<tr>\n",
       "  <th>Prob(Omnibus):</th> <td> 0.000</td> <th>  Jarque-Bera (JB):  </th> <td> 194.107</td>\n",
       "</tr>\n",
       "<tr>\n",
       "  <th>Skew:</th>          <td>-0.007</td> <th>  Prob(JB):          </th> <td>7.08e-43</td>\n",
       "</tr>\n",
       "<tr>\n",
       "  <th>Kurtosis:</th>      <td> 4.805</td> <th>  Cond. No.          </th> <td>2.85e+06</td>\n",
       "</tr>\n",
       "</table><br/><br/>Notes:<br/>[1] Standard Errors assume that the covariance matrix of the errors is correctly specified.<br/>[2] The condition number is large, 2.85e+06. This might indicate that there are<br/>strong multicollinearity or other numerical problems."
      ],
      "text/plain": [
       "<class 'statsmodels.iolib.summary.Summary'>\n",
       "\"\"\"\n",
       "                            OLS Regression Results                            \n",
       "==============================================================================\n",
       "Dep. Variable:                  Price   R-squared:                       0.877\n",
       "Model:                            OLS   Adj. R-squared:                  0.876\n",
       "Method:                 Least Squares   F-statistic:                     1688.\n",
       "Date:                Mon, 27 Sep 2021   Prob (F-statistic):               0.00\n",
       "Time:                        08:27:09   Log-Likelihood:                -12237.\n",
       "No. Observations:                1430   AIC:                         2.449e+04\n",
       "Df Residuals:                    1423   BIC:                         2.453e+04\n",
       "Df Model:                           6                                         \n",
       "Covariance Type:            nonrobust                                         \n",
       "==============================================================================\n",
       "                 coef    std err          t      P>|t|      [0.025      0.975]\n",
       "------------------------------------------------------------------------------\n",
       "Intercept  -1.112e+04   1222.536     -9.095      0.000   -1.35e+04   -8721.332\n",
       "Age         -113.6307      2.551    -44.547      0.000    -118.634    -108.627\n",
       "KM            -0.0213      0.001    -17.934      0.000      -0.024      -0.019\n",
       "HP            24.8203      2.654      9.354      0.000      19.615      30.026\n",
       "Doors       -122.4510     37.798     -3.240      0.001    -196.596     -48.306\n",
       "Tax           -3.6726      1.367     -2.686      0.007      -6.355      -0.991\n",
       "Weight        26.0999      1.260     20.709      0.000      23.628      28.572\n",
       "==============================================================================\n",
       "Omnibus:                       61.956   Durbin-Watson:                   1.680\n",
       "Prob(Omnibus):                  0.000   Jarque-Bera (JB):              194.107\n",
       "Skew:                          -0.007   Prob(JB):                     7.08e-43\n",
       "Kurtosis:                       4.805   Cond. No.                     2.85e+06\n",
       "==============================================================================\n",
       "\n",
       "Notes:\n",
       "[1] Standard Errors assume that the covariance matrix of the errors is correctly specified.\n",
       "[2] The condition number is large, 2.85e+06. This might indicate that there are\n",
       "strong multicollinearity or other numerical problems.\n",
       "\"\"\""
      ]
     },
     "execution_count": 136,
     "metadata": {},
     "output_type": "execute_result"
    }
   ],
   "source": [
    "# preparing the model on train data \n",
    "model_train = smf.ols(\"Price~Age+KM+HP+Doors+Tax+Weight\",data= toyota2).fit()\n",
    "model_train.summary()"
   ]
  },
  {
   "cell_type": "code",
   "execution_count": 142,
   "id": "bf238a6a",
   "metadata": {},
   "outputs": [
    {
     "data": {
      "text/plain": [
       "<statsmodels.regression.linear_model.RegressionResultsWrapper at 0x1efda1b7a60>"
      ]
     },
     "execution_count": 142,
     "metadata": {},
     "output_type": "execute_result"
    }
   ],
   "source": []
  },
  {
   "cell_type": "code",
   "execution_count": 145,
   "id": "5a7eeb44",
   "metadata": {},
   "outputs": [
    {
     "data": {
      "text/plain": [
       "578     11300.177614\n",
       "753      9178.317542\n",
       "1081     7214.335685\n",
       "1169     7908.688862\n",
       "957     10742.669255\n",
       "            ...     \n",
       "1100     6873.595858\n",
       "347     14413.219194\n",
       "897      9978.397636\n",
       "655      8840.378768\n",
       "1030    11575.803553\n",
       "Length: 1001, dtype: float64"
      ]
     },
     "execution_count": 145,
     "metadata": {},
     "output_type": "execute_result"
    }
   ],
   "source": [
    "# train_data prediction\n",
    "train_pred = model_train.predict(toyota1_train)\n",
    "train_pred"
   ]
  },
  {
   "cell_type": "code",
   "execution_count": 146,
   "id": "787bedea",
   "metadata": {},
   "outputs": [
    {
     "data": {
      "text/plain": [
       "578     -629.822386\n",
       "753     -321.682458\n",
       "1081     -35.664315\n",
       "1169   -2041.311138\n",
       "957      992.669255\n",
       "           ...     \n",
       "1100   -1076.404142\n",
       "347     1663.219194\n",
       "897     1028.397636\n",
       "655    -1659.621232\n",
       "1030    -924.196447\n",
       "Length: 1001, dtype: float64"
      ]
     },
     "execution_count": 146,
     "metadata": {},
     "output_type": "execute_result"
    }
   ],
   "source": [
    "# train residual values \n",
    "train_resid  = train_pred - toyota1_train.Price\n",
    "train_resid"
   ]
  },
  {
   "cell_type": "code",
   "execution_count": 148,
   "id": "806e0e84",
   "metadata": {},
   "outputs": [
    {
     "data": {
      "text/plain": [
       "262     12532.070386\n",
       "546      9851.795853\n",
       "1107     7115.626001\n",
       "1168     7291.009786\n",
       "1318     8563.926025\n",
       "            ...     \n",
       "981      9764.095964\n",
       "882     10386.745304\n",
       "787      7562.334995\n",
       "144     17087.881020\n",
       "1273     6785.871861\n",
       "Length: 429, dtype: float64"
      ]
     },
     "execution_count": 148,
     "metadata": {},
     "output_type": "execute_result"
    }
   ],
   "source": [
    "# prediction on test data set \n",
    "test_pred = model_train.predict(toyota1_test)\n",
    "test_pred"
   ]
  },
  {
   "cell_type": "code",
   "execution_count": 151,
   "id": "f7b240ca",
   "metadata": {},
   "outputs": [
    {
     "data": {
      "text/plain": [
       "1253.2216095924152"
      ]
     },
     "execution_count": 151,
     "metadata": {},
     "output_type": "execute_result"
    }
   ],
   "source": [
    "# RMSE value for train data \n",
    "train_rmse = np.sqrt(np.mean(train_resid * train_resid))\n",
    "train_rmse"
   ]
  },
  {
   "cell_type": "code",
   "execution_count": 149,
   "id": "781ec085",
   "metadata": {},
   "outputs": [
    {
     "data": {
      "text/plain": [
       "262      532.070386\n",
       "546     -898.204147\n",
       "1107    1365.626001\n",
       "1168      41.009786\n",
       "1318      63.926025\n",
       "           ...     \n",
       "981     1514.095964\n",
       "882     -113.254696\n",
       "787     -387.665005\n",
       "144      637.881020\n",
       "1273    -714.128139\n",
       "Length: 429, dtype: float64"
      ]
     },
     "execution_count": 149,
     "metadata": {},
     "output_type": "execute_result"
    }
   ],
   "source": [
    "# test residual values \n",
    "test_resid  = test_pred - toyota1_test.Price\n",
    "test_resid"
   ]
  },
  {
   "cell_type": "code",
   "execution_count": 150,
   "id": "bffa40ab",
   "metadata": {},
   "outputs": [
    {
     "data": {
      "text/plain": [
       "1274.1747274288186"
      ]
     },
     "execution_count": 150,
     "metadata": {},
     "output_type": "execute_result"
    }
   ],
   "source": [
    "# RMSE value for test data \n",
    "test_rmse = np.sqrt(np.mean(test_resid*test_resid)) \n",
    "test_rmse"
   ]
  },
  {
   "cell_type": "code",
   "execution_count": null,
   "id": "4866537c",
   "metadata": {},
   "outputs": [],
   "source": [
    "We improved the model, Adjusted R^2=0.863 to finalmodel, Adjusted R^2=0.877. We do this by removing 'cc' that have the lowest VIF & removing the outliers & influencers identified in rows 80,221,601,960.\n",
    "\n",
    "Hence, our model is predicting the price of Toyota Corolla with 87.7% accuracy. with train RMSE = 1253.22 with test RMSE = 1274.17"
   ]
  }
 ],
 "metadata": {
  "kernelspec": {
   "display_name": "Python 3",
   "language": "python",
   "name": "python3"
  },
  "language_info": {
   "codemirror_mode": {
    "name": "ipython",
    "version": 3
   },
   "file_extension": ".py",
   "mimetype": "text/x-python",
   "name": "python",
   "nbconvert_exporter": "python",
   "pygments_lexer": "ipython3",
   "version": "3.8.8"
  }
 },
 "nbformat": 4,
 "nbformat_minor": 5
}
